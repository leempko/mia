{
 "cells": [
  {
   "cell_type": "markdown",
   "id": "3ddb6c1e",
   "metadata": {},
   "source": [
    "$\n",
    "\\newcommand{\\fat}[1]{\\mathbf{#1}} % Bold for anything else\n",
    "%\\newcommand{\\bldgr}[1]{{\\mbox{\\boldmath {${#1}$}}}} % Bold forlower-case Greek letters\n",
    "\\newcommand{\\bldgr}[1]{\\boldsymbol{#1}} % Bold forlower-case Greek letters\n",
    "\\newcommand{\\transp}{^T} % Transpose\n",
    "\\newcommand{\\htransp}{^H} % Hermitian transpose\n",
    "\\newcommand{\\ud}{\\,\\mathrm{d}}\n",
    "$"
   ]
  },
  {
   "cell_type": "markdown",
   "id": "122e9f66",
   "metadata": {},
   "source": [
    "# Image Smoothing and Interpolation\n",
    "\n",
    "## Linear regression\n",
    "\n",
    "\n",
    "Let $\\fat{x} = (x_1, \\ldots, x_D )\\transp$ denote the spatial position in a $D$-dimensional space. In medical imaging, $D$ is typically 2 or 3. \n",
    "Given $N$ measurements $\\{t_n\\}_{n=1}^N$ at locations $\\{\\fat{x}_n\\}_{n=1}^N$, a frequent task is to predict the value $t$ at a new location $\\fat{x}$.\n",
    "A simple model, known as \\emph{linear regression}, uses the function value\n",
    "$$\n",
    "y( \\fat{x}; \\fat{w} ) = w_0 + w_1 x_1 + \\ldots + w_D x_D\n",
    "$$\n",
    "as its prediction, where \n",
    "$w_0, \\ldots, w_D$\n",
    "are tunable weights that need to be estimatated from the available measurements.\n",
    "A more general form uses nonlinear functions of the input locations instead:\n",
    "$$\n",
    "y( \\fat{x}; \\fat{w} ) = w_0 + \\sum_{m=1}^{M-1} w_m \\phi_m( \\fat{x} )\n",
    ",\n",
    "$$\n",
    "which greatly increases the flexibility of the model.\n",
    "Here the functions $\\phi_m(\\fat{x})$ are known as \\emph{basis functions}, and it is often convenient to define an additional ``dummy'' basis function \n",
    "$\\phi_0(\\fat{x})=1$, so that the model can be written as\n",
    "\\begin{equation}\n",
    "y( \\fat{x}; \\fat{w} ) = \\sum_{m=0}^{M-1} w_m \\phi_m( \\fat{x} ),\n",
    "\\label{eq:prediction}\n",
    "\\end{equation}\n",
    "where $\\fat{w} = (w_0, \\ldots, w_{M-1})\\transp$ are $M$ tunable parameters.\n",
    "\n",
    "In order to find suitable values of the parameters of the model, the following energy can be minimzed with respect to $\\fat{w}$:\n",
    "$$\n",
    "E( \\fat{w} ) = \\sum_{n=1}^N \n",
    "               \\left( t_n - \\sum_{m=0}^{M-1} w_m \\phi_m(\\fat{x}_n) \\right)^2\n",
    ",               \n",
    "$$\n",
    "which simply sums of the squared distances between the measurements $t_n$ and the model's predictions $y(\\fat{x}_n; \\fat{w})$."
   ]
  },
  {
   "cell_type": "code",
   "execution_count": 4,
   "id": "aea0df75",
   "metadata": {},
   "outputs": [
    {
     "data": {
      "text/plain": [
       "[<matplotlib.lines.Line2D at 0x7fdf2fc61a60>,\n",
       " <matplotlib.lines.Line2D at 0x7fdf2fc61a90>,\n",
       " <matplotlib.lines.Line2D at 0x7fdf2fc6fc70>]"
      ]
     },
     "execution_count": 4,
     "metadata": {},
     "output_type": "execute_result"
    },
    {
     "data": {
      "image/png": "[encoded data removed]",
      "text/plain": [
       "<Figure size 432x288 with 1 Axes>"
      ]
     },
     "metadata": {
      "needs_background": "light"
     },
     "output_type": "display_data"
    }
   ],
   "source": [
    "#\n",
    "import numpy as np\n",
    "from matplotlib import pyplot as plt\n",
    "plt.ion()\n",
    "\n",
    "#\n",
    "N = 30;\n",
    "ns = np.arange( N ).reshape( -1, 1 )\n",
    "A = np.cos( np.pi * ( ns + 0.5 ) * np.arange( 3 ) / N  )\n",
    "A[ :, 0 ] *= 1/np.sqrt(2)  # DC component is scaled differently\n",
    "plt.figure()\n",
    "plt.plot( ns, A )"
   ]
  },
  {
   "cell_type": "code",
   "execution_count": null,
   "id": "4cfc14cb",
   "metadata": {},
   "outputs": [],
   "source": []
  }
 ],
 "metadata": {
  "kernelspec": {
   "display_name": "Python 3 (ipykernel)",
   "language": "python",
   "name": "python3"
  },
  "language_info": {
   "codemirror_mode": {
    "name": "ipython",
    "version": 3
   },
   "file_extension": ".py",
   "mimetype": "text/x-python",
   "name": "python",
   "nbconvert_exporter": "python",
   "pygments_lexer": "ipython3",
   "version": "3.9.7"
  }
 },
 "nbformat": 4,
 "nbformat_minor": 5
}
